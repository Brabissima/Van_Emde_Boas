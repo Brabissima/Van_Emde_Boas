{
 "cells": [
  {
   "cell_type": "code",
   "execution_count": 1,
   "metadata": {},
   "outputs": [],
   "source": [
    "import random\n",
    "import math\n",
    "#from Simple_Tabulation_Hash import Simple_Tabulation_Hash\n",
    "#from Chave_Valor import Chave_Valor"
   ]
  },
  {
   "cell_type": "code",
   "execution_count": 2,
   "metadata": {},
   "outputs": [],
   "source": [
    "class VEB:\n",
    "    def get_c(self, x):\n",
    "        return x >> int(self.w/2)\n",
    "\n",
    "    def get_i(self, x):\n",
    "        return x & ((1 << int(self.w/2)) - 1)\n",
    "\n",
    "    def get_x(self, c, i):\n",
    "        return (c << int(self.w/2)) | i\n",
    "\n",
    "    def __init__(self, w):\n",
    "        self.w = w\n",
    "        self.min = None\n",
    "        self.max = None\n",
    "\n",
    "        self.clusters = [None for _ in range(w)]#Simple_Tabulation_Hash(8, w) #tamanho inicial da tabela = 8\n",
    "        self.resumo = None\n",
    "\n",
    "    def encontrar(self, x):\n",
    "        if(x == self.min or x == self.max):\n",
    "            return True\n",
    "        elif(self.w <= 2):\n",
    "            return False\n",
    "        else:\n",
    "            cluster = self.clusters[self.get_c(x)]\n",
    "            if(cluster != None):\n",
    "                return cluster.encontrar(self.get_i(x))\n",
    "            else:\n",
    "                return False\n",
    "\n",
    "    def sucessor(self, x):\n",
    "        if(self.w <= 2):\n",
    "            if(x == 0 and self.max == 1):\n",
    "                return 1\n",
    "            else:\n",
    "                return None\n",
    "        elif(self.min != None and x < self.min):\n",
    "            return self.min\n",
    "        else:\n",
    "            c = self.get_c(x)\n",
    "            i = self.get_i(x)\n",
    "            max_i = None\n",
    "            cluster = self.clusters[c]\n",
    "            if(cluster != None):\n",
    "                max_i = cluster.max\n",
    "            if(max_i != None and i < max_i):\n",
    "                prox = cluster.sucessor(i)\n",
    "                if(prox != None):\n",
    "                    return self.get_x(c, prox)\n",
    "            else:\n",
    "                cluster_suc = None\n",
    "                if(self.resumo != None):\n",
    "                    cluster_suc = self.resumo.sucessor(c)\n",
    "                if(cluster_suc == None):\n",
    "                    return None\n",
    "                else:\n",
    "                    cluster_ = self.clusters[cluster_suc]\n",
    "                    prox = 0\n",
    "                    if(cluster_ != None):\n",
    "                        prox = cluster_.min\n",
    "                    return self.get_x(cluster_suc, prox)\n",
    "\n",
    "    def predecessor(self, x):\n",
    "        if(self.w <= 2):\n",
    "            if(x == 1 and self.min == 0):\n",
    "                return 0\n",
    "            else:\n",
    "                return None\n",
    "        elif(self.max != None and x > self.max):\n",
    "            return self.max\n",
    "        else:\n",
    "            c = self.get_c(x)\n",
    "            i = self.get_i(x)\n",
    "            min_i = None\n",
    "            cluster = self.clusters[c]\n",
    "            if(cluster != None):\n",
    "                min_i = cluster.min\n",
    "            if(min_i != None and i > min_i):\n",
    "                ant = cluster.predecessor(i)\n",
    "                if(ant == None): \n",
    "                    ant = 0\n",
    "                return self.get_x(c, ant)\n",
    "            else:\n",
    "                cluster_pred = None\n",
    "                if(self.resumo != None):\n",
    "                    cluster_pred = self.resumo.predecessor(c)\n",
    "                if(cluster_pred == None):\n",
    "                    if(self.min != None and x > self.min):\n",
    "                        return self.min\n",
    "                    else:\n",
    "                        return None\n",
    "                else:\n",
    "                    cluster_ = self.clusters[cluster_pred]\n",
    "                    ant = 0\n",
    "                    if(cluster_ != None):\n",
    "                        ant = cluster_.max\n",
    "                    return self.get_x(cluster_pred, ant)\n",
    "\n",
    "    def incluir_unico(self, x):\n",
    "        self.min = x\n",
    "        self.max = x\n",
    "\n",
    "    def incluir(self, x):\n",
    "        if(not self.encontrar(x)):\n",
    "            if(self.min == None):\n",
    "                self.incluir_unico(x)\n",
    "            else:\n",
    "                if(x < self.min):\n",
    "                    self.min, x = x, self.min\n",
    "                if(self.w > 2):\n",
    "                    c = self.get_c(x)\n",
    "                    if(self.clusters[c] == None):\n",
    "                        self.clusters[c] = VEB(int(self.w/2))\n",
    "                    if(self.resumo == None):\n",
    "                        self.resumo = VEB(int(self.w/2))\n",
    "                    if(self.clusters[c].min == None):\n",
    "                        self.resumo.incluir(c)\n",
    "                        self.clusters[c].incluir_unico(self.get_i(x))\n",
    "                    else:\n",
    "                        self.clusters[c].incluir(self.get_i(x))\n",
    "                if(x > self.max):\n",
    "                    self.max = x\n",
    "        else:\n",
    "            return False\n",
    "                \n",
    "    def remover(self, x):\n",
    "        if(self.encontrar(x)):\n",
    "            if(x == self.min):\n",
    "                if(self.resumo == None):\n",
    "                    c = None\n",
    "                else:\n",
    "                    c = self.resumo.min\n",
    "                if(c == None):\n",
    "                    self.min = None\n",
    "                    return True\n",
    "                self.min = self.get_x(self.get_c(x), self.clusters[c].min)\n",
    "                x = self.min\n",
    "            c = self.get_c(x)\n",
    "            self.clusters[c].remover(self.get_i(x))\n",
    "            if(self.clusters[c].min == None):\n",
    "                self.resumo.remover(c)\n",
    "            if(self.resumo.min == None):\n",
    "                self.max = self.min\n",
    "            else:\n",
    "                c_ = self.resumo.max\n",
    "                self.max = self.get_x(c_, self.clusters[c_].max)\n",
    "            return True\n",
    "        else:\n",
    "            return False\n",
    "    \n",
    "    def executar(self):\n",
    "        arquivo = open('entrada.txt','r')\n",
    "        saida = open('saida.txt','w')\n",
    "\n",
    "        for line in arquivo:\n",
    "            operacao, x = line.strip().split(':')\n",
    "            if(operacao == 'INC'):\n",
    "                #print(operacao,x)\n",
    "                self.incluir(int(x))\n",
    "                saida.write(\"{}:{}\\n\\n\".format(operacao,x))\n",
    "                \n",
    "            elif(operacao == 'REM'):\n",
    "                self.remover(int(x))\n",
    "                saida.write(\"{}:{}\\n\\n\".format(operacao,x))\n",
    "\n",
    "            elif(operacao == 'SUC'):\n",
    "                suc = self.sucessor(int(x))\n",
    "                saida.write(\"{}:{}\\n{}\\n\\n\".format(operacao,x,suc))\n",
    "                \n",
    "            elif(operacao == 'PRE'):\n",
    "                pred = self.predecessor(int(x))\n",
    "                saida.write(\"{}:{}\\n{}\\n\\n\".format(operacao,x,pred))\n",
    "\n",
    "        arquivo.close()\n",
    "        saida.close()"
   ]
  },
  {
   "cell_type": "code",
   "execution_count": 3,
   "metadata": {},
   "outputs": [],
   "source": [
    "veb = VEB(64)\n",
    "veb.executar()"
   ]
  },
  {
   "cell_type": "code",
   "execution_count": 4,
   "metadata": {},
   "outputs": [],
   "source": [
    "veb.incluir(1)"
   ]
  },
  {
   "cell_type": "code",
   "execution_count": 5,
   "metadata": {},
   "outputs": [],
   "source": [
    "veb.incluir(2)"
   ]
  },
  {
   "cell_type": "code",
   "execution_count": 6,
   "metadata": {},
   "outputs": [],
   "source": [
    "veb.incluir(3829)"
   ]
  },
  {
   "cell_type": "code",
   "execution_count": 7,
   "metadata": {},
   "outputs": [],
   "source": [
    "veb.incluir(832)"
   ]
  },
  {
   "cell_type": "code",
   "execution_count": 8,
   "metadata": {},
   "outputs": [
    {
     "data": {
      "text/plain": [
       "832"
      ]
     },
     "execution_count": 8,
     "metadata": {},
     "output_type": "execute_result"
    }
   ],
   "source": [
    "veb.predecessor(3829)"
   ]
  },
  {
   "cell_type": "code",
   "execution_count": 9,
   "metadata": {},
   "outputs": [
    {
     "data": {
      "text/plain": [
       "3829"
      ]
     },
     "execution_count": 9,
     "metadata": {},
     "output_type": "execute_result"
    }
   ],
   "source": [
    "veb.sucessor(833)"
   ]
  },
  {
   "cell_type": "code",
   "execution_count": 10,
   "metadata": {},
   "outputs": [
    {
     "data": {
      "text/plain": [
       "1"
      ]
     },
     "execution_count": 10,
     "metadata": {},
     "output_type": "execute_result"
    }
   ],
   "source": [
    "veb.predecessor(2)"
   ]
  },
  {
   "cell_type": "code",
   "execution_count": 11,
   "metadata": {},
   "outputs": [
    {
     "data": {
      "text/plain": [
       "10"
      ]
     },
     "execution_count": 11,
     "metadata": {},
     "output_type": "execute_result"
    }
   ],
   "source": [
    "veb.sucessor(2)"
   ]
  }
 ],
 "metadata": {
  "kernelspec": {
   "display_name": "Python 3",
   "language": "python",
   "name": "python3"
  },
  "language_info": {
   "codemirror_mode": {
    "name": "ipython",
    "version": 3
   },
   "file_extension": ".py",
   "mimetype": "text/x-python",
   "name": "python",
   "nbconvert_exporter": "python",
   "pygments_lexer": "ipython3",
   "version": "3.7.3"
  }
 },
 "nbformat": 4,
 "nbformat_minor": 2
}
