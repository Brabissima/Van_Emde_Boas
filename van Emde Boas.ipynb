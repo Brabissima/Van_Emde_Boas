{
 "cells": [
  {
   "cell_type": "code",
   "execution_count": 1,
   "metadata": {},
   "outputs": [],
   "source": [
    "import random\n",
    "import math"
   ]
  },
  {
   "cell_type": "markdown",
   "metadata": {},
   "source": [
    "# Van Emde Boas"
   ]
  },
  {
   "cell_type": "code",
   "execution_count": 2,
   "metadata": {},
   "outputs": [],
   "source": [
    "class Simple_Tabulation_Hash:\n",
    "    def __init__(self, u, w):\n",
    "        self.u = u\n",
    "        self.w = w\n",
    "        self.tab = [None for _ in range(w)]\n",
    "        self.contador_elementos = 0\n",
    "        self.contador_flags = 0\n",
    "    \n",
    "    def particionar(self, x):\n",
    "        x = int(x)\n",
    "        binario_x = bin(x).zfill(self.u).replace('b','')\n",
    "        particoes = []\n",
    "        if(self.u == 64 or self.u == 16 or self.u == 4):\n",
    "            for _ in range(int(math.sqrt(self.u))):\n",
    "                particoes.append(binario_x[-(int(math.sqrt(self.u))):])\n",
    "                binario_x = binario_x[:-(int(math.sqrt(self.u)))]\n",
    "        elif(self.u == 32):\n",
    "            for _ in range(4):\n",
    "                particoes.append(binario_x[-8:])\n",
    "                binario_x = binario_x[:-8]\n",
    "\n",
    "        elif(self.u == 8):\n",
    "            for _ in range(2):\n",
    "                particoes.append(binario_x[-4:])\n",
    "                binario_x = binario_x[:-4]\n",
    "\n",
    "        elif(self.u == 2):\n",
    "             for _ in range(2):\n",
    "                particoes.append(binario_x[-1:])\n",
    "                binario_x = binario_x[:-1]\n",
    "        else:\n",
    "                print(\"Valor de u muito pequeno.\")\n",
    "        particoes = particoes[::-1]\n",
    "        return particoes\n",
    "        \n",
    "    def tabela_aleatoria(self, x):\n",
    "        random.seed(42)\n",
    "        T = []\n",
    "        particoes = self.particionar(x)\n",
    "        for __ in range(len(particoes)):\n",
    "            T_i = []\n",
    "            for _ in range(2**len(particoes)):\n",
    "                valor_aleatorio = random.randint(0,2**len(particoes))\n",
    "                T_i.append(valor_aleatorio)\n",
    "            T.append(T_i)\n",
    "        return T\n",
    "            \n",
    "    def funcao_hash(self, x): #h(x) = T[1](x[1])^T[2](x[2])^...^T[8]x[8]\n",
    "        particoes = self.particionar(x)\n",
    "        particao_decimal = [int(particao, 2) for particao in particoes]\n",
    "        T = self.tabela_aleatoria(x)\n",
    "        T_j = []\n",
    "        \n",
    "        for i in range(len(particoes)):\n",
    "            j = particao_decimal[i]\n",
    "            T_j.append(T[i][j])\n",
    "\n",
    "        h_x = T_j[0]^T_j[1]\n",
    "        for i in range(2,len(particoes)):\n",
    "            h_x = h_x^T_j[i]\n",
    "            \n",
    "        return h_x\n",
    "\n",
    "    def limpar(self):\n",
    "        tabela_antiga = self.tab.copy()\n",
    "        self.tab = [None for _ in range(self.w)]\n",
    "        print(\"LIMPAR:{}\\n\\n\".format(self.contador_flags))\n",
    "        self.remapear_valores(tabela_antiga)\n",
    "\n",
    "    def remapear_valores(self, tabela_antiga):\n",
    "        for pos, valor in enumerate(tabela_antiga):\n",
    "            if(valor != None and valor != '#'):      # '#' indica que foi removido um elemento ali\n",
    "                self.incluir(pos, valor, False) #Tem que modificar o self.tab ja com a inclusao do valor\n",
    "\n",
    "    def table_doubling(self):\n",
    "        tabela_antiga = self.tab.copy()\n",
    "        m = len(self.tab)\n",
    "        m *= 2\n",
    "        self.tab = [None for _ in range(m)]\n",
    "        self.remapear_valores(tabela_antiga)\n",
    "        print(\"DOBRAR TAM:{}\\n\\n\".format(len(self.tab)))\n",
    "\n",
    "    def halving(self):\n",
    "        eps=1\n",
    "        if(len(self.tab)/2>=(eps+1)): #Aqui restringe a tabela a ter pelo menos tamanho 2.\n",
    "            tabela_antiga = self.tab.copy()\n",
    "            m = len(self.tab)\n",
    "            m = int(m/2)\n",
    "            self.tab = [None for _ in range(m)]\n",
    "            self.remapear_valores(tabela_antiga)\n",
    "            print(\"METADE TAM:{}\\n\\n\".format(len(self.tab)))\n",
    "            \n",
    "    def incluir(self, x, veb, registrar_log=True):\n",
    "        inserido = False\n",
    "        i=0\n",
    "        h_x = self.funcao_hash(x)\n",
    "        while(not inserido):\n",
    "            if(i<len(self.tab)):            #pra não percorrer a tabela infinitas vezes.\n",
    "                pos = (h_x+i)%len(self.tab) #(h[x]+i)mod m\n",
    "                \n",
    "                if(self.tab[pos] == None or self.tab[pos] == '#'): # '#' indica que foi removido um elemento ali\n",
    "\n",
    "                    if(veb in self.tab):\n",
    "                        print(\"ELEMENTO JÁ INSERIDO\")\n",
    "\n",
    "                    elif(self.tab[pos] == '#'):\n",
    "                        self.contador_flags-=1\n",
    "                        \n",
    "                    self.tab[pos] = veb\n",
    "                    \n",
    "                    inserido = True\n",
    "                else:\n",
    "                    i+=1\n",
    "                    \n",
    "            else:\n",
    "                self.table_doubling() #se a tabela ja estiver cheia, table doubling remapeando valores.\n",
    "                while(not inserido):\n",
    "                    if(i<len(self.tab)):            \n",
    "                        pos = (h_x+i)%len(self.tab) #(h[x]+i)mod m\n",
    "                        if(self.tab[pos] == None or self.tab[pos] == '#'): # '#' indica que foi removido um elemento ali\n",
    "                            if(self.tab[pos] == '#'):\n",
    "                                self.contador_flags-=1  \n",
    "                            self.tab[pos] = veb\n",
    "                            inserido = True\n",
    "                        i+=1\n",
    "\n",
    "            self.contador_elementos+=1\n",
    "\n",
    "        \n",
    "    def buscar(self, x, veb, registrar_log=True):\n",
    "        encontrou = False\n",
    "        esta_na_tab = False\n",
    "        h_x = self.funcao_hash(x)\n",
    "        i=0\n",
    "        print(len(self.tab))\n",
    "        while(not encontrou):\n",
    "            if(i<len(self.tab)):                 #Pra não percorrer a tabela infinitas vezes.\n",
    "                pos = (h_x+i)%len(self.tab) #(h[x]+i)mod m\n",
    "                if(self.tab[pos] == veb):          #Caso eu encontre o elemento, retorno sua posição.\n",
    "                    return pos\n",
    "                else:\n",
    "                    i+=1\n",
    "            else:\n",
    "                encontrou = True\n",
    "        \n",
    "        return -1\n",
    "            \n",
    "\n",
    "    def remover(self, x, veb): #Implementar o halving (done)\n",
    "        pos = self.buscar(x, veb, False)\n",
    "        if(pos != -1):\n",
    "            self.tab[pos] = '#'\n",
    "            self.contador_elementos-=1\n",
    "            self.contador_flags+=1\n",
    "            if(self.contador_flags>=(len(self.tab))*(1/4)):\n",
    "                self.limpar()\n",
    "\n",
    "            if(self.contador_elementos<=int((1/4)*len(self.tab))):\n",
    "                self.halving()"
   ]
  },
  {
   "cell_type": "code",
   "execution_count": 26,
   "metadata": {},
   "outputs": [],
   "source": [
    "class VEB:\n",
    "    def __init__(self, w):\n",
    "        self.w = w\n",
    "        self.w_2 = None\n",
    "        self.u = 2**self.w\n",
    "        self.min, self.max = None, None\n",
    "        self.clusters = Simple_Tabulation_Hash(self.u, int(math.sqrt(self.u))) #[None for _ in range(int(math.sqrt(self.u)))]#\n",
    "        self.resumo = None\n",
    "        self.log = []\n",
    "    \n",
    "    def elemento(self, c, i):\n",
    "         return (c << int(self.w_2,2)) or i #(c*math.floor(math.sqrt(self.u)))+i\n",
    " \n",
    "    def posicao_chave(self, x):\n",
    "        x = bin(x).zfill(int(self.w)).replace('b','')\n",
    "        self.w_2 = x[:int(len(x)/2)]\n",
    "        c = int(x,2) and ((1 << int(self.w_2,2)) - 1)\n",
    "        i = int(x,2) >> int(self.w_2,2)\n",
    "        #c = int(math.floor(x / math.sqrt(self.u)))\n",
    "        #i = int(x % math.ceil(math.sqrt(self.u)))\n",
    "        \n",
    "        return c, i\n",
    "    \n",
    "    def atualizar_min_max(self, x):\n",
    "        self.min = x\n",
    "        self.max = x\n",
    "    \n",
    "    def inserir(self, x):\n",
    "        c, i = self.posicao_chave(x)\n",
    "        if(self.min == None):\n",
    "            self.atualizar_min_max(x)\n",
    "            self.log.append(\"INC:{}\\n\\n\".format(x))\n",
    "        else:\n",
    "            if(x < self.min):\n",
    "                aux = self.min\n",
    "                self.min = x\n",
    "                x = aux\n",
    "            if(x > self.max):\n",
    "                self.max = x\n",
    "            if(self.clusters.tab[c] == None):\n",
    "                #self.clusters.incluir(c, VEB(int((self.w)/2)))\n",
    "                self.clusters.tab[c] = VEB((self.w)/2)\n",
    "                self.log.append(\"INC:{}\\n\\n\".format(x))\n",
    "            if(self.resumo == None):\n",
    "                self.resumo = VEB(int((self.w)/2))\n",
    "            if(self.clusters.tab[c].min == None):\n",
    "                self.resumo.inserir(c)\n",
    "                self.clusters.tab[c].atualizar_min_max(i)\n",
    "            else:\n",
    "                self.clusters.tab[c].inserir(i)\n",
    "                \n",
    "    #V.clusters[c] que vai ser a tabela de dispersão, cada posição vai ser uma vEB. Exemplo: clusters[0] vai ter um \n",
    "    #ponteiro pra vEB que está na posição 0 da tabela de dispersão. Se c=0 (clusters[0]) então eu vou ver cluster[h(0)]\n",
    "        \n",
    "    def sucessor(self, x):  \n",
    "        c, i = self.posicao_chave(x)\n",
    "        if(x < self.min):\n",
    "            return self.min\n",
    "        else:\n",
    "            max_i = None\n",
    "            cluster = self.clusters.tab[c]\n",
    "            if(cluster != None):\n",
    "                max_i = cluster.max\n",
    "            if(max_i != None and i < max_i):\n",
    "                i_ = cluster.sucessor(i)\n",
    "                self.log.append(\"SUC:{}\\n{}\\n\\n\".format(x, self.elemento(c, i_)))\n",
    "                return self.elemento(c, i_)\n",
    "            else:\n",
    "                cluster_sucessor = None\n",
    "                if(self.resumo != None):\n",
    "                    cluster_sucessor = self.resumo.sucessor(c)\n",
    "                if(cluster_sucessor == None):\n",
    "                    return None\n",
    "                else:\n",
    "                    cluster_ = self.clusters.tab[cluster_sucessor]\n",
    "                    i_ = 0\n",
    "                    if(cluster_ != None):\n",
    "                        i_ = cluster_.min\n",
    "                    self.log.append(\"SUC:{}\\n{}\\n\\n\".format(x, self.elemento(cluster_sucessor, i_)))\n",
    "                    return self.elemento(cluster_sucessor, i_)\n",
    "\n",
    "    def predecessor(self, x):\n",
    "        c, i = self.posicao_chave(x)\n",
    "        if(x > self.max):\n",
    "            return self.max\n",
    "        else:\n",
    "            min_i = None\n",
    "            cluster = self.clusters.tab[c]\n",
    "            if(cluster != None):\n",
    "                min_i = cluster.min\n",
    "            if(min_i != None and i > min_i):\n",
    "                i_ = cluster.predecessor(i)\n",
    "                self.log.append(\"PRE:{}\\n{}\\n\\n\".format(x, self.elemento(c, i_)))\n",
    "                return self.elemento(c, i_)\n",
    "            else:\n",
    "                cluster_predecessor = None\n",
    "                if(self.resumo != None):\n",
    "                    cluster_predecessor = self.resumo.predecessor(c)\n",
    "                if(cluster_predecessor == None):\n",
    "                    if(self.min != None and x > self.min):\n",
    "                        return self.min\n",
    "                    return None\n",
    "                else:\n",
    "                    cluster_ = self.clusters.tab[cluster_predecessor]\n",
    "                    i_ = 0\n",
    "                    if(cluster_ != None):\n",
    "                        i_ = cluster_.max\n",
    "                    self.log.append(\"PRE:{}\\n{}\\n\\n\".format(x, self.elemento(cluster_predecessor, i_)))\n",
    "                    return self.elemento(cluster_predecessor, i_)\n",
    "                \n",
    "    def remover(self, x):\n",
    "        c,i = self.posicao_chave(x)\n",
    "        if(x == self.min):\n",
    "            c = self.resumo.min\n",
    "            if(c == None):\n",
    "                self.min = None\n",
    "            i = self.clusters.tab[c].min\n",
    "            self.min = self.elemento(c, i)\n",
    "            x = self.min\n",
    "        self.clusters.tab[c].remover(i)\n",
    "        if(self.clusters.tab[c].min == None):\n",
    "            self.resumo.remover(c)\n",
    "        if(self.resumo.min == None):\n",
    "            self.max = self.min\n",
    "        else:\n",
    "            c_ = self.resumo.max\n",
    "            self.max = self.elemento(c_, self.clusters.tab[c_].max)\n",
    "            \n",
    "    def executar(self):\n",
    "        arquivo = open('entrada.txt','r')\n",
    "        saida = open('saida.txt','w')\n",
    "\n",
    "        for line in arquivo:\n",
    "            operacao, x = line.split(':')\n",
    "            if(operacao == 'INC'):\n",
    "                self.inserir(int(x))\n",
    "                print(self.clusters.tab)\n",
    "\n",
    "            elif(operacao == 'REM'):\n",
    "                self.remover(int(x))\n",
    "                print(self.clusters.tab)\n",
    "\n",
    "            elif(operacao == 'SUC'):\n",
    "                self.sucessor(int(x))\n",
    "                \n",
    "            elif(operacao == 'PRE'):\n",
    "                self.predecessor(int(x))\n",
    "\n",
    "        saida.writelines(self.log)\n",
    "\n",
    "        arquivo.close()\n",
    "        saida.close()\n"
   ]
  },
  {
   "cell_type": "code",
   "execution_count": 27,
   "metadata": {},
   "outputs": [
    {
     "data": {
      "text/plain": [
       "65536"
      ]
     },
     "execution_count": 27,
     "metadata": {},
     "output_type": "execute_result"
    }
   ],
   "source": [
    "veb = VEB(16)\n",
    "veb.u"
   ]
  },
  {
   "cell_type": "code",
   "execution_count": 28,
   "metadata": {},
   "outputs": [
    {
     "data": {
      "text/plain": [
       "5"
      ]
     },
     "execution_count": 28,
     "metadata": {},
     "output_type": "execute_result"
    }
   ],
   "source": [
    "int(math.floor(10 / math.sqrt(4)))"
   ]
  },
  {
   "cell_type": "code",
   "execution_count": 29,
   "metadata": {},
   "outputs": [],
   "source": [
    "veb.inserir(2)"
   ]
  },
  {
   "cell_type": "code",
   "execution_count": 30,
   "metadata": {},
   "outputs": [
    {
     "data": {
      "text/plain": [
       "<__main__.Simple_Tabulation_Hash at 0x222ceb84780>"
      ]
     },
     "execution_count": 30,
     "metadata": {},
     "output_type": "execute_result"
    }
   ],
   "source": [
    "veb.clusters"
   ]
  },
  {
   "cell_type": "code",
   "execution_count": 31,
   "metadata": {},
   "outputs": [
    {
     "data": {
      "text/plain": [
       "(2, 2)"
      ]
     },
     "execution_count": 31,
     "metadata": {},
     "output_type": "execute_result"
    }
   ],
   "source": [
    "veb.min, veb.max"
   ]
  },
  {
   "cell_type": "code",
   "execution_count": 32,
   "metadata": {},
   "outputs": [],
   "source": [
    "veb.predecessor(2)"
   ]
  },
  {
   "cell_type": "code",
   "execution_count": 33,
   "metadata": {},
   "outputs": [
    {
     "data": {
      "text/plain": [
       "2"
      ]
     },
     "execution_count": 33,
     "metadata": {},
     "output_type": "execute_result"
    }
   ],
   "source": [
    "veb.min"
   ]
  },
  {
   "cell_type": "code",
   "execution_count": 34,
   "metadata": {},
   "outputs": [],
   "source": [
    "veb.inserir(3)"
   ]
  },
  {
   "cell_type": "code",
   "execution_count": 35,
   "metadata": {},
   "outputs": [],
   "source": [
    "#veb.inserir(2)"
   ]
  },
  {
   "cell_type": "code",
   "execution_count": 36,
   "metadata": {},
   "outputs": [
    {
     "data": {
      "text/plain": [
       "2"
      ]
     },
     "execution_count": 36,
     "metadata": {},
     "output_type": "execute_result"
    }
   ],
   "source": [
    "veb.predecessor(3)"
   ]
  },
  {
   "cell_type": "code",
   "execution_count": 37,
   "metadata": {},
   "outputs": [
    {
     "data": {
      "text/plain": [
       "(2, 3)"
      ]
     },
     "execution_count": 37,
     "metadata": {},
     "output_type": "execute_result"
    }
   ],
   "source": [
    "veb.min, veb.max"
   ]
  },
  {
   "cell_type": "code",
   "execution_count": 38,
   "metadata": {},
   "outputs": [],
   "source": [
    "veb.inserir(12)"
   ]
  },
  {
   "cell_type": "code",
   "execution_count": 39,
   "metadata": {},
   "outputs": [
    {
     "data": {
      "text/plain": [
       "[<__main__.VEB at 0x222ceb84be0>,\n",
       " None,\n",
       " None,\n",
       " None,\n",
       " None,\n",
       " None,\n",
       " None,\n",
       " None,\n",
       " None,\n",
       " None,\n",
       " None,\n",
       " None,\n",
       " None,\n",
       " None,\n",
       " None,\n",
       " None,\n",
       " None,\n",
       " None,\n",
       " None,\n",
       " None,\n",
       " None,\n",
       " None,\n",
       " None,\n",
       " None,\n",
       " None,\n",
       " None,\n",
       " None,\n",
       " None,\n",
       " None,\n",
       " None,\n",
       " None,\n",
       " None,\n",
       " None,\n",
       " None,\n",
       " None,\n",
       " None,\n",
       " None,\n",
       " None,\n",
       " None,\n",
       " None,\n",
       " None,\n",
       " None,\n",
       " None,\n",
       " None,\n",
       " None,\n",
       " None,\n",
       " None,\n",
       " None,\n",
       " None,\n",
       " None,\n",
       " None,\n",
       " None,\n",
       " None,\n",
       " None,\n",
       " None,\n",
       " None,\n",
       " None,\n",
       " None,\n",
       " None,\n",
       " None,\n",
       " None,\n",
       " None,\n",
       " None,\n",
       " None,\n",
       " None,\n",
       " None,\n",
       " None,\n",
       " None,\n",
       " None,\n",
       " None,\n",
       " None,\n",
       " None,\n",
       " None,\n",
       " None,\n",
       " None,\n",
       " None,\n",
       " None,\n",
       " None,\n",
       " None,\n",
       " None,\n",
       " None,\n",
       " None,\n",
       " None,\n",
       " None,\n",
       " None,\n",
       " None,\n",
       " None,\n",
       " None,\n",
       " None,\n",
       " None,\n",
       " None,\n",
       " None,\n",
       " None,\n",
       " None,\n",
       " None,\n",
       " None,\n",
       " None,\n",
       " None,\n",
       " None,\n",
       " None,\n",
       " None,\n",
       " None,\n",
       " None,\n",
       " None,\n",
       " None,\n",
       " None,\n",
       " None,\n",
       " None,\n",
       " None,\n",
       " None,\n",
       " None,\n",
       " None,\n",
       " None,\n",
       " None,\n",
       " None,\n",
       " None,\n",
       " None,\n",
       " None,\n",
       " None,\n",
       " None,\n",
       " None,\n",
       " None,\n",
       " None,\n",
       " None,\n",
       " None,\n",
       " None,\n",
       " None,\n",
       " None,\n",
       " None,\n",
       " None,\n",
       " None,\n",
       " None,\n",
       " None,\n",
       " None,\n",
       " None,\n",
       " None,\n",
       " None,\n",
       " None,\n",
       " None,\n",
       " None,\n",
       " None,\n",
       " None,\n",
       " None,\n",
       " None,\n",
       " None,\n",
       " None,\n",
       " None,\n",
       " None,\n",
       " None,\n",
       " None,\n",
       " None,\n",
       " None,\n",
       " None,\n",
       " None,\n",
       " None,\n",
       " None,\n",
       " None,\n",
       " None,\n",
       " None,\n",
       " None,\n",
       " None,\n",
       " None,\n",
       " None,\n",
       " None,\n",
       " None,\n",
       " None,\n",
       " None,\n",
       " None,\n",
       " None,\n",
       " None,\n",
       " None,\n",
       " None,\n",
       " None,\n",
       " None,\n",
       " None,\n",
       " None,\n",
       " None,\n",
       " None,\n",
       " None,\n",
       " None,\n",
       " None,\n",
       " None,\n",
       " None,\n",
       " None,\n",
       " None,\n",
       " None,\n",
       " None,\n",
       " None,\n",
       " None,\n",
       " None,\n",
       " None,\n",
       " None,\n",
       " None,\n",
       " None,\n",
       " None,\n",
       " None,\n",
       " None,\n",
       " None,\n",
       " None,\n",
       " None,\n",
       " None,\n",
       " None,\n",
       " None,\n",
       " None,\n",
       " None,\n",
       " None,\n",
       " None,\n",
       " None,\n",
       " None,\n",
       " None,\n",
       " None,\n",
       " None,\n",
       " None,\n",
       " None,\n",
       " None,\n",
       " None,\n",
       " None,\n",
       " None,\n",
       " None,\n",
       " None,\n",
       " None,\n",
       " None,\n",
       " None,\n",
       " None,\n",
       " None,\n",
       " None,\n",
       " None,\n",
       " None,\n",
       " None,\n",
       " None,\n",
       " None,\n",
       " None,\n",
       " None,\n",
       " None,\n",
       " None,\n",
       " None,\n",
       " None,\n",
       " None,\n",
       " None,\n",
       " None,\n",
       " None,\n",
       " None,\n",
       " None,\n",
       " None,\n",
       " None,\n",
       " None,\n",
       " None,\n",
       " None,\n",
       " None,\n",
       " None,\n",
       " None,\n",
       " None,\n",
       " None,\n",
       " None,\n",
       " None,\n",
       " None]"
      ]
     },
     "execution_count": 39,
     "metadata": {},
     "output_type": "execute_result"
    }
   ],
   "source": [
    "veb.clusters.tab"
   ]
  },
  {
   "cell_type": "code",
   "execution_count": 40,
   "metadata": {},
   "outputs": [
    {
     "data": {
      "text/plain": [
       "([<__main__.VEB at 0x222ceb21d30>,\n",
       "  None,\n",
       "  None,\n",
       "  None,\n",
       "  None,\n",
       "  None,\n",
       "  None,\n",
       "  None,\n",
       "  None,\n",
       "  None,\n",
       "  None,\n",
       "  None,\n",
       "  None,\n",
       "  None,\n",
       "  None,\n",
       "  None],\n",
       " 3,\n",
       " 12)"
      ]
     },
     "execution_count": 40,
     "metadata": {},
     "output_type": "execute_result"
    }
   ],
   "source": [
    "veb.clusters.tab[0].clusters.tab, veb.clusters.tab[0].min, veb.clusters.tab[0].max"
   ]
  },
  {
   "cell_type": "code",
   "execution_count": 41,
   "metadata": {},
   "outputs": [
    {
     "data": {
      "text/plain": [
       "([None, None, None, None], 12, 12)"
      ]
     },
     "execution_count": 41,
     "metadata": {},
     "output_type": "execute_result"
    }
   ],
   "source": [
    "veb.clusters.tab[0].clusters.tab[0].clusters.tab, veb.clusters.tab[0].clusters.tab[0].min, veb.clusters.tab[0].clusters.tab[0].max"
   ]
  },
  {
   "cell_type": "code",
   "execution_count": 42,
   "metadata": {},
   "outputs": [
    {
     "data": {
      "text/plain": [
       "(3, 12)"
      ]
     },
     "execution_count": 42,
     "metadata": {},
     "output_type": "execute_result"
    }
   ],
   "source": [
    "veb.predecessor(12), veb.sucessor(3)"
   ]
  }
 ],
 "metadata": {
  "kernelspec": {
   "display_name": "Python 3",
   "language": "python",
   "name": "python3"
  },
  "language_info": {
   "codemirror_mode": {
    "name": "ipython",
    "version": 3
   },
   "file_extension": ".py",
   "mimetype": "text/x-python",
   "name": "python",
   "nbconvert_exporter": "python",
   "pygments_lexer": "ipython3",
   "version": "3.7.3"
  }
 },
 "nbformat": 4,
 "nbformat_minor": 2
}
